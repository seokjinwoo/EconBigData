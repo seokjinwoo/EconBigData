{
  "nbformat": 4,
  "nbformat_minor": 0,
  "metadata": {
    "colab": {
      "provenance": [],
      "authorship_tag": "ABX9TyOkbStebfjtgRaGmz8/oXco",
      "include_colab_link": true
    },
    "kernelspec": {
      "name": "python3",
      "display_name": "Python 3"
    },
    "language_info": {
      "name": "python"
    }
  },
  "cells": [
    {
      "cell_type": "markdown",
      "metadata": {
        "id": "view-in-github",
        "colab_type": "text"
      },
      "source": [
        "<a href=\"https://colab.research.google.com/github/seokjinwoo/EconBigData/blob/main/econbig_lec_1.ipynb\" target=\"_parent\"><img src=\"https://colab.research.google.com/assets/colab-badge.svg\" alt=\"Open In Colab\"/></a>"
      ]
    },
    {
      "cell_type": "markdown",
      "source": [
        "# Markdown\n",
        "## 이번 학기 계획\n",
        "### 필기 예제\n",
        "\n",
        "- 이번 수업에는 markdown 을 이용해서 필기를 할 예정(shift+enter)\n",
        "\n",
        "### Latex 수식도 가능\n",
        "\n",
        "\n",
        "- 수식을 이용해서 계량모형도 쉽게 쓸 수 있음\n",
        "\n",
        "$$\n",
        "y_i = a + b x_i + \\epsilon_i\n",
        "$$\n",
        "\n",
        "---"
      ],
      "metadata": {
        "id": "hVauY9KF4_ly"
      }
    },
    {
      "cell_type": "code",
      "source": [
        "import pandas as pd\n",
        "import numpy as np\n",
        "\n",
        "# 2개의 칼럼과 10개의 인덱스를 가진 데이터프레임 생성\n",
        "df = pd.DataFrame(np.random.rand(10, 2), columns=['A', 'B'])\n",
        "\n",
        "# 데이터프레임 출력\n",
        "print(df)"
      ],
      "metadata": {
        "colab": {
          "base_uri": "https://localhost:8080/"
        },
        "id": "OBuQy9ID7siz",
        "outputId": "5e07a1ec-ff5a-4845-919f-a3f16bdb8aaf"
      },
      "execution_count": 2,
      "outputs": [
        {
          "output_type": "stream",
          "name": "stdout",
          "text": [
            "          A         B\n",
            "0  0.142702  0.349254\n",
            "1  0.049899  0.295335\n",
            "2  0.624764  0.483937\n",
            "3  0.918495  0.201851\n",
            "4  0.482260  0.687574\n",
            "5  0.280749  0.600841\n",
            "6  0.221447  0.465284\n",
            "7  0.276196  0.437380\n",
            "8  0.021681  0.491386\n",
            "9  0.608047  0.556218\n"
          ]
        }
      ]
    },
    {
      "cell_type": "code",
      "execution_count": null,
      "metadata": {
        "id": "chy4IqDw2uHt"
      },
      "outputs": [],
      "source": []
    }
  ]
}