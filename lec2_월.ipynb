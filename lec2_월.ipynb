{
  "nbformat": 4,
  "nbformat_minor": 0,
  "metadata": {
    "colab": {
      "provenance": [],
      "authorship_tag": "ABX9TyPMHRQZFN0ZCMqji4ZuIhXs",
      "include_colab_link": true
    },
    "kernelspec": {
      "name": "python3",
      "display_name": "Python 3"
    },
    "language_info": {
      "name": "python"
    }
  },
  "cells": [
    {
      "cell_type": "markdown",
      "metadata": {
        "id": "view-in-github",
        "colab_type": "text"
      },
      "source": [
        "<a href=\"https://colab.research.google.com/github/seokjinwoo/EconBigData/blob/main/lec2_%EC%9B%94.ipynb\" target=\"_parent\"><img src=\"https://colab.research.google.com/assets/colab-badge.svg\" alt=\"Open In Colab\"/></a>"
      ]
    },
    {
      "cell_type": "markdown",
      "source": [
        "## 데이터 분석에 필요한 파이썬 기초\n",
        "\n",
        "- 파이썬의 내장되어 있는 기초 함수\n",
        "- 데이터 보관 형태(scalar, vector, matrix, tensor,..., arrary)\n",
        "- 데이터 분석에 필요한 라이브러리(numpy, pandas)\n",
        "- 데이터 시각화에 필요한 라이브러리(matplotlib)\n",
        "\n",
        "---\n",
        "\n",
        "## 내장 기초 함수\n",
        "\n",
        "\n",
        "\n"
      ],
      "metadata": {
        "id": "iYopEqxFoS2O"
      }
    },
    {
      "cell_type": "code",
      "execution_count": 5,
      "metadata": {
        "colab": {
          "base_uri": "https://localhost:8080/"
        },
        "id": "fnIuI98imt5t",
        "outputId": "67e0b266-b71e-4499-bb3c-961ac91140ff"
      },
      "outputs": [
        {
          "output_type": "stream",
          "name": "stdout",
          "text": [
            "Hello, world!\n",
            "안녕, 우석진!\n",
            "Hello, world!\n",
            "Hello Python!\n",
            "모수 11 개의 모형을 학습한다\n"
          ]
        }
      ],
      "source": [
        "print(\"Hello, world!\")\n",
        "print(\"안녕, 우석진!\")\n",
        "\n",
        "print('Hello, world!')\n",
        "print('Hello', 'Python!')\n",
        "print('모수',11,'개의 모형을 학습한다')\n"
      ]
    },
    {
      "cell_type": "markdown",
      "source": [
        "- 이렇게 문자를 이어 붙이는 것을 **연결** (concantenation)"
      ],
      "metadata": {
        "id": "RcJLq9viryNu"
      }
    },
    {
      "cell_type": "code",
      "source": [
        "\"Hello\" + \" \" + \"World\"\n",
        "print(\"Hello\",\"world\")"
      ],
      "metadata": {
        "colab": {
          "base_uri": "https://localhost:8080/"
        },
        "id": "DmGZCTP9p0Da",
        "outputId": "fd8b3c57-0de1-46e7-9a56-e75aa17aed37"
      },
      "execution_count": 8,
      "outputs": [
        {
          "output_type": "stream",
          "name": "stdout",
          "text": [
            "Hello world\n"
          ]
        }
      ]
    },
    {
      "cell_type": "code",
      "source": [
        "print?"
      ],
      "metadata": {
        "id": "TAa79JIosQha"
      },
      "execution_count": 11,
      "outputs": []
    },
    {
      "cell_type": "markdown",
      "source": [
        "### 간단한 연산(계산기)\n",
        "\n",
        "- 더하기, 빼기, 곱하기, 나누기\n",
        "- 제곱, 세제곱, 분수, 제곱근,\n",
        "- 삼각함수, 로그..\n"
      ],
      "metadata": {
        "id": "sK3kIH2VtUbW"
      }
    },
    {
      "cell_type": "code",
      "source": [
        "3 + 5"
      ],
      "metadata": {
        "colab": {
          "base_uri": "https://localhost:8080/"
        },
        "id": "yVtT8JxssFI4",
        "outputId": "338cbe1b-9473-4401-e6c9-9a43589a5666"
      },
      "execution_count": 12,
      "outputs": [
        {
          "output_type": "execute_result",
          "data": {
            "text/plain": [
              "8"
            ]
          },
          "metadata": {},
          "execution_count": 12
        }
      ]
    },
    {
      "cell_type": "code",
      "source": [
        "3*5"
      ],
      "metadata": {
        "colab": {
          "base_uri": "https://localhost:8080/"
        },
        "id": "lgmWkRsrtrl2",
        "outputId": "0d5771ad-37f0-4c2f-a7a4-bc2d8b21e64e"
      },
      "execution_count": 13,
      "outputs": [
        {
          "output_type": "execute_result",
          "data": {
            "text/plain": [
              "15"
            ]
          },
          "metadata": {},
          "execution_count": 13
        }
      ]
    },
    {
      "cell_type": "code",
      "source": [
        "2**3"
      ],
      "metadata": {
        "colab": {
          "base_uri": "https://localhost:8080/"
        },
        "id": "ac1BgW_gtth5",
        "outputId": "1b0b21ef-6da6-4a7b-b101-bf610e4372cf"
      },
      "execution_count": 16,
      "outputs": [
        {
          "output_type": "execute_result",
          "data": {
            "text/plain": [
              "8"
            ]
          },
          "metadata": {},
          "execution_count": 16
        }
      ]
    },
    {
      "cell_type": "code",
      "source": [
        "(1+5)/4*3"
      ],
      "metadata": {
        "colab": {
          "base_uri": "https://localhost:8080/"
        },
        "id": "ImXcnAegtvpM",
        "outputId": "3780a9a7-f1b4-4425-d465-3ffa6bcd49f8"
      },
      "execution_count": 18,
      "outputs": [
        {
          "output_type": "execute_result",
          "data": {
            "text/plain": [
              "4.5"
            ]
          },
          "metadata": {},
          "execution_count": 18
        }
      ]
    },
    {
      "cell_type": "markdown",
      "source": [
        "## 데이터의 형태\n",
        "\n",
        "- scalar, vector, matrix, (tensor)\n",
        "- vector와 matrix 를 어떻게 파이썬에서 담을 것이냐.\n",
        "\n",
        "- 리스트(list), 튜플(tuple), 배열(arrary), 데이터프레임(dataframe) 등을 활용할 수 있음\n",
        "\n",
        "---\n",
        "\n",
        "- 리스트: [] 안에\n",
        "\n",
        "\n",
        "\n",
        "\n",
        "\n"
      ],
      "metadata": {
        "id": "GEoarChOzWmx"
      }
    },
    {
      "cell_type": "code",
      "source": [
        "x = [1,2,3,4,5]  # x <- [1,2,3,4], x < [1,2,3,4],\n",
        "\n",
        "# 같다는 것은 \"==\"\n",
        "\n",
        "# print(x)\n",
        "\n",
        "y = [4, 8, 1]\n"
      ],
      "metadata": {
        "id": "TP1AfTNyuYmm"
      },
      "execution_count": 22,
      "outputs": []
    },
    {
      "cell_type": "code",
      "source": [
        "x + y"
      ],
      "metadata": {
        "colab": {
          "base_uri": "https://localhost:8080/"
        },
        "id": "MYT7Cbgb0vdc",
        "outputId": "64d13b9b-e7d6-4851-a4cf-abde3ab5043d"
      },
      "execution_count": 24,
      "outputs": [
        {
          "output_type": "execute_result",
          "data": {
            "text/plain": [
              "[1, 2, 3, 4, 5, 4, 8, 1]"
            ]
          },
          "metadata": {},
          "execution_count": 24
        }
      ]
    },
    {
      "cell_type": "markdown",
      "source": [
        "### numpy 라이브러리\n",
        "\n",
        "- 함수나 연산을 할 때 자주 사용되는 파이썬의 패키지\n",
        "- pandas 는 데이터 관리에 유용한 모듈\n",
        "\n"
      ],
      "metadata": {
        "id": "4Ydz4OuV7Tqq"
      }
    },
    {
      "cell_type": "code",
      "source": [
        "import numpy as np"
      ],
      "metadata": {
        "id": "Goanzxe-2Hej"
      },
      "execution_count": 26,
      "outputs": []
    },
    {
      "cell_type": "code",
      "source": [
        "x = [3,4,5]\n",
        "y = [4,9,7]\n",
        "\n",
        "x+y"
      ],
      "metadata": {
        "colab": {
          "base_uri": "https://localhost:8080/"
        },
        "id": "nmMSsUge84L4",
        "outputId": "d5c9217f-9ffc-44d6-cf54-e36885d24dd2"
      },
      "execution_count": 30,
      "outputs": [
        {
          "output_type": "execute_result",
          "data": {
            "text/plain": [
              "[3, 4, 5, 4, 9, 7]"
            ]
          },
          "metadata": {},
          "execution_count": 30
        }
      ]
    },
    {
      "cell_type": "code",
      "source": [
        "# 1차원 어레이\n",
        "x = np.array([3,4,5])\n",
        "y = np.array([4,9,7])\n",
        "\n",
        "x+y"
      ],
      "metadata": {
        "colab": {
          "base_uri": "https://localhost:8080/"
        },
        "id": "yoyuM6T89UWR",
        "outputId": "1a0c0843-b9c1-47da-b34b-be8591caff87"
      },
      "execution_count": 32,
      "outputs": [
        {
          "output_type": "execute_result",
          "data": {
            "text/plain": [
              "array([ 7, 13, 12])"
            ]
          },
          "metadata": {},
          "execution_count": 32
        }
      ]
    },
    {
      "cell_type": "code",
      "source": [
        "# 2차원 어레이\n",
        "x = np.array([[1,2,5],[3,4,8]])\n",
        "print(x)\n",
        "\n",
        "\n",
        "# 3차원 어레이: [4,5,9]\n",
        "x = np.array([[1,2,5],[3,4,8], [4,5,9]])\n",
        "\n",
        "print(x.shape)\n"
      ],
      "metadata": {
        "colab": {
          "base_uri": "https://localhost:8080/"
        },
        "id": "vt4t6LV3-M6p",
        "outputId": "5b7d2b89-0d66-4ee8-b1b1-39d235e2783f"
      },
      "execution_count": 39,
      "outputs": [
        {
          "output_type": "stream",
          "name": "stdout",
          "text": [
            "[[1 2 5]\n",
            " [3 4 8]]\n",
            "(3, 3)\n"
          ]
        }
      ]
    },
    {
      "cell_type": "code",
      "source": [
        "x = np.array([1,2,3,4,5])\n",
        "print(\"x의 합은\\n\",x.sum())"
      ],
      "metadata": {
        "colab": {
          "base_uri": "https://localhost:8080/"
        },
        "id": "D9nB4Z4p_AHW",
        "outputId": "9b872857-930d-4463-8808-0527aa236c81"
      },
      "execution_count": 43,
      "outputs": [
        {
          "output_type": "stream",
          "name": "stdout",
          "text": [
            "x의 합은\n",
            " 15\n"
          ]
        }
      ]
    },
    {
      "cell_type": "code",
      "source": [
        "print(\"x의 평균은 \\n\",x.mean())"
      ],
      "metadata": {
        "colab": {
          "base_uri": "https://localhost:8080/"
        },
        "id": "MlCAgQxbAd9y",
        "outputId": "d2c09903-a277-47c0-abcb-9a4bff5b1732"
      },
      "execution_count": 46,
      "outputs": [
        {
          "output_type": "stream",
          "name": "stdout",
          "text": [
            "x의 평균은 \n",
            " 3.0\n"
          ]
        }
      ]
    },
    {
      "cell_type": "markdown",
      "source": [
        "### 데이터를 다르는 패키지 pandas\n",
        "\n",
        "- numpy와 pandas는 짝으로 다님.\n",
        "- 데이터를 불러 들임\n",
        "\n",
        "\n"
      ],
      "metadata": {
        "id": "pfYFpDX1BQ3F"
      }
    },
    {
      "cell_type": "code",
      "source": [
        "import pandas as pd\n",
        "\n",
        "df = pd.read_csv('/content/auto.csv')"
      ],
      "metadata": {
        "id": "FlA9PWh_Aw1u"
      },
      "execution_count": 49,
      "outputs": []
    },
    {
      "cell_type": "code",
      "source": [],
      "metadata": {
        "id": "5fIS8bLoEh2B"
      },
      "execution_count": null,
      "outputs": []
    }
  ]
}