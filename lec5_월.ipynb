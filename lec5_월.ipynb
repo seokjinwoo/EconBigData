{
  "nbformat": 4,
  "nbformat_minor": 0,
  "metadata": {
    "colab": {
      "provenance": [],
      "authorship_tag": "ABX9TyOTN3se9rq8Vu3sHQdBecrf",
      "include_colab_link": true
    },
    "kernelspec": {
      "name": "python3",
      "display_name": "Python 3"
    },
    "language_info": {
      "name": "python"
    }
  },
  "cells": [
    {
      "cell_type": "markdown",
      "metadata": {
        "id": "view-in-github",
        "colab_type": "text"
      },
      "source": [
        "<a href=\"https://colab.research.google.com/github/seokjinwoo/EconBigData/blob/main/lec5_%EC%9B%94.ipynb\" target=\"_parent\"><img src=\"https://colab.research.google.com/assets/colab-badge.svg\" alt=\"Open In Colab\"/></a>"
      ]
    },
    {
      "cell_type": "markdown",
      "source": [
        "## 3장. 경제경영 분석에서 자주 나오는 분포\n",
        "\n",
        "- 확률변수 $X$의 특성으로서 확률분포(probability distribution)\n",
        "\n",
        "- 2가지로 확률변수를 구분:\n",
        "  - 이산(discrete) 확률변수: countable values\n",
        "  - 연속(continuous) 확률변수: uncountable values\n",
        "\n",
        "- 이산확률변수 -> 이산확률분포\n",
        "- 연속확률변수 -> 연속확률분포\n",
        "\n",
        "- 가장 많이 쓰는 방식은 **누적분포함수**(cumulative distribution function, CDF)\n",
        "\n",
        "$$\n",
        "F_X(x) = \\Pr(X \\leq x)\n",
        "$$\n",
        "\n",
        "- 이산확률변수의 경우: $f_X(x) = \\Pr(X=x)$, 확률질량함수(probability mass function)\n",
        "\n",
        "  - $F_X(x) = \\Pr(X \\leq x) = \\sum_{s \\leq x} f_X(s) $\n",
        "\n",
        "- 연속확률변수의 경우: $f_X(x)$, 확률밀도함수(probability density function)\n",
        "\n",
        "  - $F_X(x) = \\Pr(X \\leq x) = \\int_{-\\infty}^{x} f_X(S) ds $\n",
        "\n",
        "\n",
        "\n",
        "\n",
        "\n",
        "\n",
        "\n",
        "\n",
        "\n",
        "\n",
        "\n"
      ],
      "metadata": {
        "id": "on-Vq1cOwhdu"
      }
    },
    {
      "cell_type": "markdown",
      "source": [
        "---\n",
        "\n",
        "### 베르누이 분포(Bernoulli distribution)\n",
        "\n",
        "- 이산 확률변수 $X$는 관심있는 사건이 일어나면 1, 아니면 0의 값을 갖는 확률변수이고\n",
        "\n",
        "- 이 경우 $X$는 베르누이 분포를 따르게 됨\n",
        "  - $X \\sim Ber(p) $, $p$를 모수(parameter)라고 부름\n",
        "\n",
        "- $X$의 pmf 는 $f(x) =  p^x (1-p)^{1-x}$\n",
        "\n",
        "- 평균: $E[X] = p$\n",
        "- 분산: $Var(X) = p (1-p) $\n",
        "\n",
        "\n",
        "\n",
        "\n",
        "\n",
        "\n",
        "\n",
        "\n",
        "\n",
        "\n",
        "\n",
        "\n",
        "\n",
        "\n",
        "\n",
        "\n",
        "\n"
      ],
      "metadata": {
        "id": "44XOke9j3Ykb"
      }
    },
    {
      "cell_type": "code",
      "execution_count": null,
      "metadata": {
        "colab": {
          "base_uri": "https://localhost:8080/",
          "height": 312
        },
        "id": "-cqQffDAv3MV",
        "outputId": "84d6b300-73c5-43a9-f64e-056c21a81137"
      },
      "outputs": [
        {
          "output_type": "stream",
          "name": "stdout",
          "text": [
            "[0 0 1 0 1 1 1 0 0 1]\n"
          ]
        },
        {
          "output_type": "display_data",
          "data": {
            "text/plain": [
              "<Figure size 400x300 with 1 Axes>"
            ],
            "image/png": "[encoded data removed]"
          },
          "metadata": {}
        }
      ],
      "source": [
        "import numpy as np\n",
        "import matplotlib.pyplot as plt\n",
        "\n",
        "x = np.random.binomial(1, 0.4, 1000)\n",
        "print(x[:10])\n",
        "\n",
        "plt.figure(figsize=(4, 3))\n",
        "plt.hist(x, bins=[-0.5,0.5,1.5], density=True, rwidth=0.5)\n",
        "plt.xticks([0,1])\n",
        "plt.show()"
      ]
    },
    {
      "cell_type": "markdown",
      "source": [
        "### 이항분포(binomial distribution)\n",
        "\n",
        "- 전체 40명 중에서 몇 명이 코로나에 감염되어 있는가?\n",
        "  - 0,1,2,...,40명까지 가능함\n",
        "\n",
        "- 전체 $n$개 중에 관심있는 사건이 몇 번 일어났는지 셀 때(counting)\n",
        "\n",
        "- $X_i \\sim Ber(p)$를 따른다고 할 때\n",
        "$$\n",
        "B = X_1 + X_2 + \\cdots + X_n\n",
        "$$\n",
        "\n",
        "- 이항분포의 모수는 $n$과 $p$이고 다음과 같이 씀 $B(n,p)$  \n",
        "\n",
        "- 이항분포의 평균 $n \\times p$, 분산은 $n \\times p \\times (1-p)$\n",
        "\n",
        "\n"
      ],
      "metadata": {
        "id": "FdfCRcYDFzy1"
      }
    },
    {
      "cell_type": "code",
      "source": [
        "import numpy as np\n",
        "import matplotlib.pyplot as plt\n",
        "from scipy.stats import binom\n",
        "\n",
        "# x = np.arange(102)\n",
        "n = 100\n",
        "p = 0.3\n",
        "\n",
        "plt.figure(figsize=(3, 2))\n",
        "prob = binom.pmf(range(n+1), n, p)\n",
        "plt.bar(range(n+1), prob, color = 'skyblue')\n",
        "plt.show()"
      ],
      "metadata": {
        "colab": {
          "base_uri": "https://localhost:8080/",
          "height": 214
        },
        "id": "QmJOTOUG7bM2",
        "outputId": "f083a0e9-945a-4a32-ea11-7800ebc40d4e"
      },
      "execution_count": null,
      "outputs": [
        {
          "output_type": "display_data",
          "data": {
            "text/plain": [
              "<Figure size 300x200 with 1 Axes>"
            ],
            "image/png": "[encoded data removed]"
          },
          "metadata": {}
        }
      ]
    },
    {
      "cell_type": "markdown",
      "source": [
        "### 포아송 분포(Poisson distribution)\n",
        "\n",
        "- 갯수를 셈(counting)\n",
        "\n",
        "- 주어진 시간 내에서 $n = 1, 2, 3, \\dots$\n",
        "\n",
        "- 강도(强度, intensity)를 나타내는 파라미터 $\\lambda$\n",
        "  - $\\lambda$ 를 위험률(hazard rate) 혹은 `Poisson arrival rate`\n",
        "\n",
        "- 평균: $E[X] = \\lambda$\n",
        "- 분산: $Var(X) = \\lambda$\n",
        "\n",
        "- 평균이 커질 때, 분산도 같이 커져.\n",
        "  - 이거 매우 좋지 않은 성질. overdispersion\n",
        "\n",
        "\n",
        "\n",
        "\n",
        "\n",
        "\n",
        "\n",
        "\n",
        "\n"
      ],
      "metadata": {
        "id": "2-5Gd4QMOGsZ"
      }
    },
    {
      "cell_type": "code",
      "source": [
        "import numpy as np\n",
        "import matplotlib.pyplot as plt\n",
        "from scipy.stats import poisson\n",
        "\n",
        "lambda1 = 50\n",
        "data1 = poisson.rvs(lambda1, size=1000)\n",
        "\n",
        "# the mean of data1\n",
        "# the variance of data1\n",
        "print(np.mean(data1), np.var(data1))\n",
        "\n",
        "plt.figure(figsize=(3, 2))\n",
        "plt.hist(data1,\n",
        "         bins=range(min(data1), max(data1)+2),\n",
        "         density=True, rwidth=0.8)\n",
        "plt.show()"
      ],
      "metadata": {
        "colab": {
          "base_uri": "https://localhost:8080/",
          "height": 233
        },
        "id": "qJOkCM1QIq9s",
        "outputId": "cb02092e-3f27-4d11-b2d6-49a192a02769"
      },
      "execution_count": null,
      "outputs": [
        {
          "output_type": "stream",
          "name": "stdout",
          "text": [
            "49.928 53.932815999999995\n"
          ]
        },
        {
          "output_type": "display_data",
          "data": {
            "text/plain": [
              "<Figure size 300x200 with 1 Axes>"
            ],
            "image/png": "[encoded data removed]"
          },
          "metadata": {}
        }
      ]
    },
    {
      "cell_type": "code",
      "source": [],
      "metadata": {
        "id": "CAZO-MPOQUoB"
      },
      "execution_count": null,
      "outputs": []
    }
  ]
}