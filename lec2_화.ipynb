{
  "nbformat": 4,
  "nbformat_minor": 0,
  "metadata": {
    "colab": {
      "provenance": [],
      "authorship_tag": "ABX9TyNXKQuU6bM7cwT0tyKK54DO",
      "include_colab_link": true
    },
    "kernelspec": {
      "name": "python3",
      "display_name": "Python 3"
    },
    "language_info": {
      "name": "python"
    }
  },
  "cells": [
    {
      "cell_type": "markdown",
      "metadata": {
        "id": "view-in-github",
        "colab_type": "text"
      },
      "source": [
        "<a href=\"https://colab.research.google.com/github/seokjinwoo/EconBigData/blob/main/lec2_%ED%99%94.ipynb\" target=\"_parent\"><img src=\"https://colab.research.google.com/assets/colab-badge.svg\" alt=\"Open In Colab\"/></a>"
      ]
    },
    {
      "cell_type": "markdown",
      "source": [
        "## 데이터 분석에 필요한 파이썬 기초\n",
        "\n",
        "- 파이썬은 인터프리터(interpreter)\n",
        "- 파이썬에서 자주 사용되는 기초 함수들을 익힌다.\n",
        "- 데이터 분석에 자주 사용되는 라이브러리(numpy, pandas)\n",
        "- 데이터 시각화에 자주 사용되는 라이브러리(matplotlib)\n",
        "\n",
        "---\n",
        "\n",
        "### 유용한 내장 기초함수\n",
        "\n",
        "\n",
        "\n"
      ],
      "metadata": {
        "id": "bdhWx260xb5Z"
      }
    },
    {
      "cell_type": "code",
      "source": [
        "print(\"Hello, World!\")\n",
        "print(\"Hello, 우석진\")\n",
        "\n",
        "print('Hello, World!')\n",
        "print('Hello', 'Python!')\n",
        "print('모수', 11, \"개의 모형을 학습한다.\")\n",
        "\n"
      ],
      "metadata": {
        "colab": {
          "base_uri": "https://localhost:8080/"
        },
        "id": "jNHqgg08ypHC",
        "outputId": "4250f0ab-6559-4b95-a26a-76c12d4b4f06"
      },
      "execution_count": null,
      "outputs": [
        {
          "output_type": "stream",
          "name": "stdout",
          "text": [
            "Hello, World!\n",
            "Hello, 우석진\n",
            "Hello, World!\n",
            "Hello Python!\n",
            "모수 11 개의 모형을 학습한다.\n"
          ]
        }
      ]
    },
    {
      "cell_type": "markdown",
      "source": [
        "- 이렇게 단어(문자나 문장)를 이어 붙이는 것을 **연결**(concantenation)"
      ],
      "metadata": {
        "id": "FATYfxY-1SGT"
      }
    },
    {
      "cell_type": "code",
      "execution_count": null,
      "metadata": {
        "colab": {
          "base_uri": "https://localhost:8080/"
        },
        "id": "Q0XzqmTjvsE_",
        "outputId": "882e44c0-c3ac-433a-b1d6-32c4062f5260"
      },
      "outputs": [
        {
          "output_type": "stream",
          "name": "stdout",
          "text": [
            "Hello World!\n"
          ]
        }
      ],
      "source": [
        "\"Hello\" + \"World!\"\n",
        "\"Hello\" + \" \" + \"World!\"\n",
        "print(\"Hello\", \"World!\")"
      ]
    },
    {
      "cell_type": "code",
      "source": [
        "print?\n",
        "# print()?"
      ],
      "metadata": {
        "id": "NOCf9nhC10fn"
      },
      "execution_count": null,
      "outputs": []
    },
    {
      "cell_type": "markdown",
      "source": [
        "### 간단한 연산(계산기)\n",
        "\n",
        "- 더하기, 빼기, 곱하기, 나누기\n",
        "- 간단한 함수:제곱, 세제곱, 제곱근\n",
        "- 로그, 지수, 삼각함수\n",
        "- 미분, 적분\n",
        "- 방정식도 풀어줌\n",
        "\n",
        "\n"
      ],
      "metadata": {
        "id": "qEAME9gF5KCh"
      }
    },
    {
      "cell_type": "code",
      "source": [
        "3 + 5"
      ],
      "metadata": {
        "colab": {
          "base_uri": "https://localhost:8080/"
        },
        "id": "SmFoCgRV32_o",
        "outputId": "1eb91bd8-5365-4d64-caca-a49c90129153"
      },
      "execution_count": null,
      "outputs": [
        {
          "output_type": "execute_result",
          "data": {
            "text/plain": [
              "8"
            ]
          },
          "metadata": {},
          "execution_count": 14
        }
      ]
    },
    {
      "cell_type": "code",
      "source": [
        "3 - 5"
      ],
      "metadata": {
        "colab": {
          "base_uri": "https://localhost:8080/"
        },
        "id": "h0gnWHV15kr3",
        "outputId": "946935d9-eebb-4fe8-dbf6-664ed04035b9"
      },
      "execution_count": null,
      "outputs": [
        {
          "output_type": "execute_result",
          "data": {
            "text/plain": [
              "-2"
            ]
          },
          "metadata": {},
          "execution_count": 15
        }
      ]
    },
    {
      "cell_type": "code",
      "source": [
        "3 * 5"
      ],
      "metadata": {
        "colab": {
          "base_uri": "https://localhost:8080/"
        },
        "id": "AH60cN3K5lgx",
        "outputId": "485194e0-989f-4cae-8657-ed85251c2a08"
      },
      "execution_count": null,
      "outputs": [
        {
          "output_type": "execute_result",
          "data": {
            "text/plain": [
              "15"
            ]
          },
          "metadata": {},
          "execution_count": 16
        }
      ]
    },
    {
      "cell_type": "code",
      "source": [
        "3 / 5"
      ],
      "metadata": {
        "colab": {
          "base_uri": "https://localhost:8080/"
        },
        "id": "3DPNpzjd5oU0",
        "outputId": "699fc2b8-3f79-418b-fd05-e8391cd8f7d2"
      },
      "execution_count": null,
      "outputs": [
        {
          "output_type": "execute_result",
          "data": {
            "text/plain": [
              "0.6"
            ]
          },
          "metadata": {},
          "execution_count": 17
        }
      ]
    },
    {
      "cell_type": "code",
      "source": [
        "# 승 power, 2의 3승. 2^3\n",
        "\n",
        "2**3"
      ],
      "metadata": {
        "colab": {
          "base_uri": "https://localhost:8080/"
        },
        "id": "ngg76nRU5yMj",
        "outputId": "dcf35c8c-7581-467d-c54e-90201e9178f6"
      },
      "execution_count": null,
      "outputs": [
        {
          "output_type": "execute_result",
          "data": {
            "text/plain": [
              "8"
            ]
          },
          "metadata": {},
          "execution_count": 18
        }
      ]
    },
    {
      "cell_type": "code",
      "source": [
        "(1+5)/4*3"
      ],
      "metadata": {
        "colab": {
          "base_uri": "https://localhost:8080/"
        },
        "id": "VYxMDI-h5z7Q",
        "outputId": "acaf7b42-3590-4991-eac4-34c4c904edeb"
      },
      "execution_count": null,
      "outputs": [
        {
          "output_type": "execute_result",
          "data": {
            "text/plain": [
              "4.5"
            ]
          },
          "metadata": {},
          "execution_count": 20
        }
      ]
    },
    {
      "cell_type": "markdown",
      "source": [
        "### 데이터의 형태\n",
        "\n",
        "- scalar, vector, matrix (, tensor)\n",
        "- vector, matrix 를 파이썬에서 어떻게 구현할 것이냐?\n",
        "- 리스트(list), 튜플(tuple), 배열(array), 데이터프레임(dataframe) 등을 활용할 수 있음\n",
        "\n",
        "\n",
        "---\n",
        "\n",
        "- 리스트: [ ] 안에 담는다.\n",
        "\n"
      ],
      "metadata": {
        "id": "Nc-4UEve7loe"
      }
    },
    {
      "cell_type": "code",
      "source": [
        "x = [1,2,3,4,5 ]  # x <- [1,2,3,4,5 ],  x < [1,2,3,4,5 ]\n",
        "\n",
        "# 같다는 것은 어떻게 표시하냐? \"==\"\n",
        "\n",
        "y = [4, 8, 1]\n",
        "\n"
      ],
      "metadata": {
        "id": "nFXd_gYq64VJ"
      },
      "execution_count": null,
      "outputs": []
    },
    {
      "cell_type": "code",
      "source": [
        "x + y"
      ],
      "metadata": {
        "colab": {
          "base_uri": "https://localhost:8080/"
        },
        "id": "Ny16wEDBF1sX",
        "outputId": "0c2d3e8d-e97d-46c2-f6b1-761cae6a4a98"
      },
      "execution_count": null,
      "outputs": [
        {
          "output_type": "execute_result",
          "data": {
            "text/plain": [
              "[1, 2, 3, 4, 5, 4, 8, 1]"
            ]
          },
          "metadata": {},
          "execution_count": 24
        }
      ]
    },
    {
      "cell_type": "markdown",
      "source": [
        "### numpy 라이브러리\n",
        "\n",
        "- 연산, 데이터 분석에 자주 사용되는 함수들이 포함된 파이썬 패키지\n",
        "- pandas 와 같이 자주 사용됨\n",
        "\n"
      ],
      "metadata": {
        "id": "td6batyXHq34"
      }
    },
    {
      "cell_type": "code",
      "source": [
        "import numpy as np\n"
      ],
      "metadata": {
        "id": "jR4SC-cqG-Fp"
      },
      "execution_count": null,
      "outputs": []
    },
    {
      "cell_type": "code",
      "source": [
        "x = [3,4,5]\n",
        "y = [4,9,7]\n",
        "# x + y"
      ],
      "metadata": {
        "colab": {
          "base_uri": "https://localhost:8080/"
        },
        "id": "CKkV59Q2H_q8",
        "outputId": "b37fdece-4c0e-4344-f909-fdea4c641411"
      },
      "execution_count": null,
      "outputs": [
        {
          "output_type": "execute_result",
          "data": {
            "text/plain": [
              "[3, 4, 5, 4, 9, 7]"
            ]
          },
          "metadata": {},
          "execution_count": 27
        }
      ]
    },
    {
      "cell_type": "code",
      "source": [
        "x = np.array([3,4,5])\n",
        "y = np.array([4,9,7])\n",
        "\n",
        "print(x + y)"
      ],
      "metadata": {
        "colab": {
          "base_uri": "https://localhost:8080/"
        },
        "id": "2DtX-h67IVTD",
        "outputId": "c0564541-31c3-4f06-bbdc-e9b0edba1224"
      },
      "execution_count": null,
      "outputs": [
        {
          "output_type": "stream",
          "name": "stdout",
          "text": [
            "[ 7 13 12]\n"
          ]
        }
      ]
    },
    {
      "cell_type": "code",
      "source": [
        "z = np.array([[3,4,5],[4,9,7]])\n",
        "print(z)"
      ],
      "metadata": {
        "colab": {
          "base_uri": "https://localhost:8080/"
        },
        "id": "Cng-OUXNIyNt",
        "outputId": "e82594f5-0c3a-4ed3-a774-04c0113d3e20"
      },
      "execution_count": null,
      "outputs": [
        {
          "output_type": "stream",
          "name": "stdout",
          "text": [
            "[[3 4 5]\n",
            " [4 9 7]]\n"
          ]
        }
      ]
    },
    {
      "cell_type": "code",
      "source": [
        "x = np.array([1,2,3,4,5])"
      ],
      "metadata": {
        "id": "qVOVO5KyJkHS"
      },
      "execution_count": null,
      "outputs": []
    },
    {
      "cell_type": "code",
      "source": [
        "print(\"x의 합은\", x.sum())"
      ],
      "metadata": {
        "colab": {
          "base_uri": "https://localhost:8080/"
        },
        "id": "xROXV57LJyFQ",
        "outputId": "f834d60c-770e-43c8-cf95-a1075a04703c"
      },
      "execution_count": null,
      "outputs": [
        {
          "output_type": "stream",
          "name": "stdout",
          "text": [
            "x의 합은 15\n"
          ]
        }
      ]
    },
    {
      "cell_type": "code",
      "source": [
        "print(\"x의 평균은\", x.mean())"
      ],
      "metadata": {
        "colab": {
          "base_uri": "https://localhost:8080/"
        },
        "id": "EqpYra_4J6BY",
        "outputId": "12ce3222-bc1e-4521-fe4e-07339ebfce0e"
      },
      "execution_count": null,
      "outputs": [
        {
          "output_type": "stream",
          "name": "stdout",
          "text": [
            "x의 평균은 3.0\n"
          ]
        }
      ]
    },
    {
      "cell_type": "markdown",
      "source": [
        "### pandas 라이브러리\n",
        "\n",
        "- 데이터 분석에서 가장 자주 사용되는 라이브러리\n",
        "- 다양한 데이터를 읽어 들이고, 관리하는데 유용함\n",
        "\n"
      ],
      "metadata": {
        "id": "nqfU9qK9MeDl"
      }
    },
    {
      "cell_type": "code",
      "source": [
        "import pandas as pd\n",
        "\n",
        "\n",
        "df =  pd.read_csv(\"/content/auto.csv\") # 복사한 경로를 붙여 넣는다.\n"
      ],
      "metadata": {
        "id": "CU8gY13YKGbH"
      },
      "execution_count": null,
      "outputs": []
    },
    {
      "cell_type": "code",
      "source": [],
      "metadata": {
        "id": "g8UahhUGMsNO"
      },
      "execution_count": null,
      "outputs": []
    }
  ]
}