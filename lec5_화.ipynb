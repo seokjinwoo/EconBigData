{
  "nbformat": 4,
  "nbformat_minor": 0,
  "metadata": {
    "colab": {
      "provenance": [],
      "authorship_tag": "ABX9TyM+AB4cEuMe1b162lquoGiC",
      "include_colab_link": true
    },
    "kernelspec": {
      "name": "python3",
      "display_name": "Python 3"
    },
    "language_info": {
      "name": "python"
    }
  },
  "cells": [
    {
      "cell_type": "markdown",
      "metadata": {
        "id": "view-in-github",
        "colab_type": "text"
      },
      "source": [
        "<a href=\"https://colab.research.google.com/github/seokjinwoo/EconBigData/blob/main/lec5_%ED%99%94.ipynb\" target=\"_parent\"><img src=\"https://colab.research.google.com/assets/colab-badge.svg\" alt=\"Open In Colab\"/></a>"
      ]
    },
    {
      "cell_type": "markdown",
      "source": [
        "## 3장. 경제경영 데이터 분석에서 자주 나오는 분포들\n",
        "\n",
        "- 확률변수 $X$의 특성 중 하나로서 확률분포(probability distribution)\n",
        "\n",
        "- 2가지로 확률변수를 구분할 수 있음\n",
        "  - 이산(discrete) 확률변수: countable values, 가산\n",
        "  - 연속(continuous) 확률변수: uncountable values, 불가산\n",
        "\n",
        "- 이산확률변수 -> 이산확률분포\n",
        "- 연속확률변수 -> 연속확률분포\n",
        "\n",
        "- 늘 존재하는 확률분포를 묘사하는 방법: **누적분포함수**(cumulative distribution function, CDF)\n",
        "\n",
        "$$\n",
        "F_X (x) = \\Pr (X \\leq x)\n",
        "$$\n",
        "\n",
        "- 이산확률변수의 경우: $f_X (x) = \\Pr(X=x) $, 확률질량함수(probability mass function, pmf)\n",
        "\n",
        "  - $F_X (x) = \\Pr (X \\leq x) = \\sum_{s \\leq x} f_X (s)$\n",
        "\n",
        "- 연속확률변수의 경우: $f_X (x) $, 확률밀도함수(probability density function, pdf)\n",
        "\n",
        "  - $ F_X (x) = \\Pr (X \\leq x) = \\int_{-\\infty}^{x} f_X (s) ds $\n",
        "\n",
        "\n",
        "\n",
        "\n"
      ],
      "metadata": {
        "id": "t9GZ1_gl6T_-"
      }
    },
    {
      "cell_type": "markdown",
      "source": [
        "---\n",
        "\n",
        "### 베르누이 분포(Bernoulli distribution)\n",
        "\n",
        "- 이분법, 이항 binary random variable\n",
        "- 이산확률변수\n",
        "- 확률변수 $X$가 우리가 관심있는 사건이 발생하면 1, 아니면 0의 값을 갖음\n",
        "- 확률변수 $X$는 베르누이 분포를 따르게 됨\n",
        "\n",
        "  - $X \\sim Ber(p) $, p: 관심있는 사건이 일어날 확률\n",
        "  - $p$: 모수(parameter)\n",
        "\n",
        "- $X$의 pmf는 $f(x) = p^x (1-p)^{1-x}$\n",
        "\n",
        "- 평균: $E[X] = p$\n",
        "- 분산: $var(X) = p(1-p) $\n",
        "\n"
      ],
      "metadata": {
        "id": "27nVHoAVBYBW"
      }
    },
    {
      "cell_type": "code",
      "execution_count": null,
      "metadata": {
        "colab": {
          "base_uri": "https://localhost:8080/",
          "height": 291
        },
        "id": "7kNuWbvY5VLF",
        "outputId": "a461b1bd-2bb2-46cc-846b-7a95347ae456"
      },
      "outputs": [
        {
          "output_type": "display_data",
          "data": {
            "text/plain": [
              "<Figure size 400x300 with 1 Axes>"
            ],
            "image/png": "[encoded data removed]"
          },
          "metadata": {}
        }
      ],
      "source": [
        "import numpy as np\n",
        "import matplotlib.pyplot as plt\n",
        "\n",
        "np.random.seed(1234)\n",
        "p = 0.6\n",
        "x = np.random.binomial(1, p, 1000)\n",
        "# print(x[:10])\n",
        "\n",
        "plt.figure(figsize=(4,3))\n",
        "plt.hist(x, bins=[-0.5,0.5,1.5], density = True, rwidth=0.5)\n",
        "plt.xticks([0,1])\n",
        "plt.show()"
      ]
    },
    {
      "cell_type": "markdown",
      "source": [
        "### 이항분포(binomial distribution)\n",
        "\n",
        "- 전체 40명 중에서 몇 명이 이성친구가 있는가?\n",
        "  - 이론상으로 보면 0,1,2,3,....,40명까지 가능한 거지\n",
        "\n",
        "- 전체 $n$명에서 관심있는 사건이 몇 번 일어났는지 셀 때(counting)\n",
        "\n",
        "- $X_i \\sim Ber(p) $일 때,\n",
        "\n",
        "$$\n",
        "B = X_1 + X_2 + \\cdots + X_n\n",
        "$$\n",
        "\n",
        "- $X \\sim B(n, p) $\n",
        "\n",
        "- $E[X] = n \\times p $\n",
        "- $var(X) = n \\times p \\times (1-p) $\n",
        "\n",
        "\n"
      ],
      "metadata": {
        "id": "S9p7cUIHQP1E"
      }
    },
    {
      "cell_type": "code",
      "source": [
        "import numpy as np\n",
        "import matplotlib.pyplot as plt\n",
        "from scipy.stats import binom\n",
        "\n",
        "n = 100\n",
        "p = 0.6\n",
        "\n",
        "plt.figure(figsize=(3,2))\n",
        "prob = binom.pmf(range(n+1), n, p)\n",
        "plt.bar(range(n+1), prob, width=0.5, color = 'skyblue')\n",
        "# plt.xticks(range(n+1))\n",
        "plt.ylabel('pmf')\n",
        "plt.show()"
      ],
      "metadata": {
        "colab": {
          "base_uri": "https://localhost:8080/",
          "height": 214
        },
        "id": "gDi7Pwt5D22j",
        "outputId": "8a79d0ee-fccb-435a-8785-4bcf8454c5ef"
      },
      "execution_count": null,
      "outputs": [
        {
          "output_type": "display_data",
          "data": {
            "text/plain": [
              "<Figure size 300x200 with 1 Axes>"
            ],
            "image/png": "[encoded data removed]"
          },
          "metadata": {}
        }
      ]
    },
    {
      "cell_type": "markdown",
      "source": [
        "### 포아송 분포(Poisson distribution)\n",
        "\n",
        "- 갯수를 셈(counting)\n",
        "- 이론상 $k = 0, 1, 2, 3, \\dots$\n",
        "\n",
        "- $\\lambda$: 강도(强度), intensity\n",
        "  - 위험률(hazarad rate)\n",
        "  - `Poisson arrival rate`(도착률)\n",
        "\n",
        "- $X \\sim Pos(\\lambda)$ 를 따른다면\n",
        "\n",
        "- $E[X] = \\lambda$\n",
        "- $var(X) = \\lambda$: overdispersion (안좋은 성질)\n",
        "\n",
        "\n",
        "\n",
        "\n",
        "\n"
      ],
      "metadata": {
        "id": "6ZJx54-LWLrY"
      }
    },
    {
      "cell_type": "code",
      "source": [
        "import numpy as np\n",
        "import matplotlib.pyplot as plt\n",
        "from scipy.stats import poisson\n",
        "\n",
        "np.random.seed(1234)\n",
        "lambda1 = 10\n",
        "data1 = poisson.rvs(lambda1, size=1000)\n",
        "# data1의 평균과 분산을 구해보시오.\n",
        "print(\"The mean is\", data1.mean())\n",
        "print(\"The variance is\", data1.var())\n",
        "\n",
        "\n",
        "plt.figure(figsize=(3,2))\n",
        "plt.hist(data1,\n",
        "         bins=range(min(data1), max(data1)+2),\n",
        "         density=True, rwidth=0.8)\n",
        "plt.show()"
      ],
      "metadata": {
        "colab": {
          "base_uri": "https://localhost:8080/",
          "height": 251
        },
        "id": "hpM8WZj4RdC6",
        "outputId": "da451da4-4b78-4929-9442-c1db43dd6621"
      },
      "execution_count": null,
      "outputs": [
        {
          "output_type": "stream",
          "name": "stdout",
          "text": [
            "The mean is 9.962\n",
            "The variance is 10.126556\n"
          ]
        },
        {
          "output_type": "display_data",
          "data": {
            "text/plain": [
              "<Figure size 300x200 with 1 Axes>"
            ],
            "image/png": "[encoded data removed]"
          },
          "metadata": {}
        }
      ]
    },
    {
      "cell_type": "code",
      "source": [],
      "metadata": {
        "id": "-0b4w1lTZJD5"
      },
      "execution_count": null,
      "outputs": []
    }
  ]
}